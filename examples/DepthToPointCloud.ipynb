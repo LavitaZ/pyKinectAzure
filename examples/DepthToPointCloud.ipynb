{
 "cells": [
  {
   "cell_type": "code",
   "execution_count": 7,
   "id": "1548f0ce",
   "metadata": {},
   "outputs": [],
   "source": [
    "import open3d as o3d\n",
    "import numpy as np"
   ]
  },
  {
   "cell_type": "code",
   "execution_count": 8,
   "id": "1294d114",
   "metadata": {},
   "outputs": [],
   "source": [
    "class AzureKinect:\n",
    "    def __init__(self):\n",
    "        self.config = o3d.io.AzureKinectSensorConfig()\n",
    "        self.device = 0\n",
    "        self.align_depth_to_color = 1\n",
    "\n",
    "    def start(self):\n",
    "        self.sensor = o3d.io.AzureKinectSensor(self.config)\n",
    "        if not self.sensor.connect(self.device):\n",
    "            raise RuntimeError('Failed to connect to sensor')\n",
    "\n",
    "    def frames(self):\n",
    "            while 1:\n",
    "                rgbd = self.sensor.capture_frame(self.align_depth_to_color)\n",
    "                if rgbd is None:\n",
    "                    continue\n",
    "                color,depth = np.asarray(rgbd.color).astype(np.uint8),np.asarray(rgbd.depth).astype(np.float32) / 1000.0\n",
    "                return color, depth"
   ]
  },
  {
   "cell_type": "code",
   "execution_count": 12,
   "id": "2cda7065",
   "metadata": {},
   "outputs": [
    {
     "name": "stdout",
     "output_type": "stream",
     "text": [
      "[Open3D INFO] AzureKinectSensor::Connect\n",
      "[Open3D INFO] sensor_index 0\n",
      "[Open3D INFO] Serial number: 000276693112\n",
      "[Open3D INFO] Firmware build: Rel\n",
      "[Open3D INFO] > Color: 1.6.102\n",
      "[Open3D INFO] > Depth: 1.6.75[6109.7]\n"
     ]
    }
   ],
   "source": [
    "cam = AzureKinect()\n",
    "cam.start()\n",
    "color, depth = cam.frames()\n",
    "intrinsic = o3d.camera.PinholeCameraIntrinsic(1280, 720, 601.1693115234375, 600.85931396484375, 637.83624267578125, 363.8018798828125)\n",
    "depth = o3d.geometry.Image(depth)\n",
    "img = o3d.geometry.Image(color)\n",
    "rgbd = o3d.geometry.RGBDImage.create_from_color_and_depth(img, depth, depth_scale=1.0, convert_rgb_to_intensity=False)\n",
    "pcd = o3d.geometry.PointCloud.create_from_rgbd_image(rgbd, intrinsic)\n",
    "o3d.visualization.draw_geometries([pcd])"
   ]
  },
  {
   "cell_type": "code",
   "execution_count": null,
   "id": "b6740657",
   "metadata": {},
   "outputs": [],
   "source": []
  }
 ],
 "metadata": {
  "kernelspec": {
   "display_name": "Python 3",
   "language": "python",
   "name": "python3"
  },
  "language_info": {
   "codemirror_mode": {
    "name": "ipython",
    "version": 3
   },
   "file_extension": ".py",
   "mimetype": "text/x-python",
   "name": "python",
   "nbconvert_exporter": "python",
   "pygments_lexer": "ipython3",
   "version": "3.8.8"
  }
 },
 "nbformat": 4,
 "nbformat_minor": 5
}
