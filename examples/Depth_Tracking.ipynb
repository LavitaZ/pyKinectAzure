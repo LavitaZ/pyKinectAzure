{
 "cells": [
  {
   "cell_type": "code",
   "execution_count": 16,
   "id": "88f0bb7b",
   "metadata": {},
   "outputs": [],
   "source": [
    "import open3d as o3d\n",
    "import numpy as np\n",
    "import cv2, PIL\n",
    "from PIL import Image\n",
    "from cv2 import aruco\n",
    "import matplotlib.pyplot as plt\n",
    "import matplotlib.animation as animation\n",
    "import matplotlib as mpl\n",
    "import pandas as pd\n",
    "import argparse\n",
    "import imutils\n",
    "import time\n",
    "import sys\n",
    "import csv\n",
    "import datetime as dt\n",
    "\n",
    "%matplotlib nbagg"
   ]
  },
  {
   "cell_type": "code",
   "execution_count": 7,
   "id": "5e71c7c7",
   "metadata": {},
   "outputs": [],
   "source": [
    "class AzureKinect:\n",
    "    def __init__(self):\n",
    "        self.config = o3d.io.AzureKinectSensorConfig()\n",
    "        self.device = 0\n",
    "        self.align_depth_to_color = 1\n",
    "\n",
    "    def start(self):\n",
    "        self.sensor = o3d.io.AzureKinectSensor(self.config)\n",
    "        if not self.sensor.connect(self.device):\n",
    "            raise RuntimeError('Failed to connect to sensor')\n",
    "\n",
    "    def frames(self):\n",
    "            while 1:\n",
    "                rgbd = self.sensor.capture_frame(self.align_depth_to_color)\n",
    "                if rgbd is None:\n",
    "                    continue\n",
    "                color,depth = np.asarray(rgbd.color).astype(np.uint8),np.asarray(rgbd.depth).astype(np.float32) / 1000.0\n",
    "                return color, depth\n",
    "    #def stop(self):\n",
    "     #   pause()"
   ]
  },
  {
   "cell_type": "code",
   "execution_count": 8,
   "id": "db2d9b82",
   "metadata": {},
   "outputs": [
    {
     "name": "stdout",
     "output_type": "stream",
     "text": [
      "[Open3D INFO] AzureKinectSensor::Connect\n",
      "[Open3D INFO] sensor_index 0\n",
      "[Open3D INFO] Serial number: 000276693112\n",
      "[Open3D INFO] Firmware build: Rel\n",
      "[Open3D INFO] > Color: 1.6.102\n",
      "[Open3D INFO] > Depth: 1.6.75[6109.7]\n"
     ]
    }
   ],
   "source": [
    "cam = AzureKinect()\n",
    "cam.start()"
   ]
  },
  {
   "cell_type": "code",
   "execution_count": 9,
   "id": "19fc159b",
   "metadata": {},
   "outputs": [],
   "source": [
    "ARUCO_DICT = {\n",
    "\t\"DICT_4X4_50\": cv2.aruco.DICT_4X4_50,\n",
    "\t\"DICT_4X4_100\": cv2.aruco.DICT_4X4_100,\n",
    "\t\"DICT_4X4_250\": cv2.aruco.DICT_4X4_250,\n",
    "\t\"DICT_4X4_1000\": cv2.aruco.DICT_4X4_1000,\n",
    "\t\"DICT_5X5_50\": cv2.aruco.DICT_5X5_50,\n",
    "\t\"DICT_5X5_100\": cv2.aruco.DICT_5X5_100,\n",
    "\t\"DICT_5X5_250\": cv2.aruco.DICT_5X5_250,\n",
    "\t\"DICT_5X5_1000\": cv2.aruco.DICT_5X5_1000,\n",
    "\t\"DICT_6X6_50\": cv2.aruco.DICT_6X6_50,\n",
    "\t\"DICT_6X6_100\": cv2.aruco.DICT_6X6_100,\n",
    "\t\"DICT_6X6_250\": cv2.aruco.DICT_6X6_250,\n",
    "\t\"DICT_6X6_1000\": cv2.aruco.DICT_6X6_1000,\n",
    "\t\"DICT_7X7_50\": cv2.aruco.DICT_7X7_50,\n",
    "\t\"DICT_7X7_100\": cv2.aruco.DICT_7X7_100,\n",
    "\t\"DICT_7X7_250\": cv2.aruco.DICT_7X7_250,\n",
    "\t\"DICT_7X7_1000\": cv2.aruco.DICT_7X7_1000,\n",
    "\t\"DICT_ARUCO_ORIGINAL\": cv2.aruco.DICT_ARUCO_ORIGINAL,\n",
    "\t\"DICT_APRILTAG_16h5\": cv2.aruco.DICT_APRILTAG_16h5,\n",
    "\t\"DICT_APRILTAG_25h9\": cv2.aruco.DICT_APRILTAG_25h9,\n",
    "\t\"DICT_APRILTAG_36h10\": cv2.aruco.DICT_APRILTAG_36h10,\n",
    "\t\"DICT_APRILTAG_36h11\": cv2.aruco.DICT_APRILTAG_36h11\n",
    "}"
   ]
  },
  {
   "cell_type": "code",
   "execution_count": 10,
   "id": "3fa8397e",
   "metadata": {},
   "outputs": [],
   "source": [
    "def marker_depth(id_centers, depth_array):\n",
    "    output = {}\n",
    "    height = depth_array.shape[0];\n",
    "    for key in id_centers:\n",
    "        center_x = round(id_centers[key][0]) \n",
    "        center_y = round(height - id_centers[key][1])\n",
    "        output[key] = depth_array[center_y][center_x]*100 #cm\n",
    "    return output"
   ]
  },
  {
   "cell_type": "code",
   "execution_count": 11,
   "id": "6a3ceb30",
   "metadata": {},
   "outputs": [],
   "source": [
    "def depth_data():\n",
    "    # Read depth from Kinect\n",
    "    color, depth = cam.frames()\n",
    "    intrinsic = o3d.camera.PinholeCameraIntrinsic(1280, 720, 601.1693115234375, 600.85931396484375, 637.83624267578125, 363.8018798828125)\n",
    "    depth = o3d.geometry.Image(depth)\n",
    "    img = o3d.geometry.Image(color)\n",
    "    rgbd = o3d.geometry.RGBDImage.create_from_color_and_depth(img, depth, depth_scale=1.0, convert_rgb_to_intensity=False)\n",
    "    \n",
    "    #to array\n",
    "    color_array = np.asarray(rgbd.color)\n",
    "    depth_array = np.asarray(rgbd.depth)\n",
    "    color_img = Image.fromarray(color_array)\n",
    "    depth_img = Image.fromarray(depth_array)\n",
    "    color_img.save(\"color.jpg\")\n",
    "    \n",
    "    #aruco detection\n",
    "    frame = cv2.imread(\"./color.jpg\")\n",
    "    gray = cv2.cvtColor(frame, cv2.COLOR_BGR2GRAY)\n",
    "    aruco_dict = aruco.Dictionary_get(aruco.DICT_4X4_50)\n",
    "    parameters =  aruco.DetectorParameters_create()\n",
    "    corners, ids, rejectedImgPoints = aruco.detectMarkers(gray, aruco_dict, parameters=parameters)\n",
    "    frame_markers = aruco.drawDetectedMarkers(frame.copy(), corners, ids)\n",
    "    \n",
    "    #aruco visualization\n",
    "    id_centers = {}\n",
    "    if ids is not None:\n",
    "        #plt.figure()\n",
    "        #plt.imshow(frame_markers)\n",
    "        for i in range(len(ids)):\n",
    "            c = corners[i][0]\n",
    "            #plt.plot([c[:, 0].mean()], [c[:, 1].mean()], \"o\", label = \"id={0}\".format(ids[i]))\n",
    "            id_centers[ids[i][0]] = (c[:, 0].mean(), c[:, 1].mean())\n",
    "        #plt.legend()\n",
    "        #plt.show()\n",
    "    depth_dict = marker_depth(id_centers, depth_array)\n",
    "    if bool(depth_dict): \n",
    "        depth_avg = sum(depth_dict.values())/len(depth_dict.values())\n",
    "    else:\n",
    "        depth_avg = 0\n",
    "        \n",
    "    return depth_avg"
   ]
  },
  {
   "cell_type": "code",
   "execution_count": 12,
   "id": "65cbacd5",
   "metadata": {},
   "outputs": [
    {
     "data": {
      "text/plain": [
       "15.300000458955765"
      ]
     },
     "execution_count": 12,
     "metadata": {},
     "output_type": "execute_result"
    }
   ],
   "source": [
    "depth_data()"
   ]
  },
  {
   "cell_type": "code",
   "execution_count": 23,
   "id": "a631e996",
   "metadata": {},
   "outputs": [],
   "source": [
    "def store_depth_data(freq, duration, filename):\n",
    "    with open(filename, 'w', newline='') as output:\n",
    "        time_end = time.time() + duration;\n",
    "        while(time.time() < time_end):\n",
    "            writer = csv.writer(output);\n",
    "            t = time.localtime()\n",
    "            current_time = time.strftime(\"%H:%M:%S\", t)\n",
    "            writer.writerow([current_time, depth_data()])\n",
    "            #time.sleep(1/freq)"
   ]
  },
  {
   "cell_type": "code",
   "execution_count": 24,
   "id": "0bffccea",
   "metadata": {},
   "outputs": [],
   "source": [
    "store_depth_data(44,10,  \"test.csv\")"
   ]
  },
  {
   "cell_type": "code",
   "execution_count": null,
   "id": "1d514a4a",
   "metadata": {},
   "outputs": [],
   "source": []
  }
 ],
 "metadata": {
  "kernelspec": {
   "display_name": "Python 3",
   "language": "python",
   "name": "python3"
  },
  "language_info": {
   "codemirror_mode": {
    "name": "ipython",
    "version": 3
   },
   "file_extension": ".py",
   "mimetype": "text/x-python",
   "name": "python",
   "nbconvert_exporter": "python",
   "pygments_lexer": "ipython3",
   "version": "3.7.3"
  }
 },
 "nbformat": 4,
 "nbformat_minor": 5
}
