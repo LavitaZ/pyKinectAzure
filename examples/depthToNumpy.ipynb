{
 "cells": [
  {
   "cell_type": "code",
   "execution_count": 2,
   "id": "4d7ce56d",
   "metadata": {},
   "outputs": [
    {
     "name": "stdout",
     "output_type": "stream",
     "text": [
      "Jupyter environment detected. Enabling Open3D WebVisualizer.\n",
      "[Open3D INFO] WebRTC GUI backend enabled.\n",
      "[Open3D INFO] WebRTCWindowSystem: HTTP handshake server disabled.\n"
     ]
    }
   ],
   "source": [
    "import sys\n",
    "sys.path.insert(1, '../pyKinectAzure/')\n",
    "\n",
    "import numpy as np\n",
    "from pyKinectAzure import pyKinectAzure, _k4a\n",
    "import cv2\n",
    "import open3d as o3d\n",
    "from open3d import geometry, visualization\n",
    "modulePath = r'/usr/lib/x86_64-linux-gnu/libk4a.so'"
   ]
  },
  {
   "cell_type": "code",
   "execution_count": 2,
   "id": "1d3a8621",
   "metadata": {},
   "outputs": [],
   "source": [
    "pyK4A = pyKinectAzure(modulePath)\n",
    "pyK4A.device_open()\n",
    "device_config = pyK4A.config\n",
    "device_config.color_resolution = _k4a.K4A_COLOR_RESOLUTION_1080P\n",
    "device_config.depth_mode = _k4a.K4A_DEPTH_MODE_WFOV_2X2BINNED\n",
    "#print(device_config)"
   ]
  },
  {
   "cell_type": "code",
   "execution_count": 3,
   "id": "3fb65706",
   "metadata": {},
   "outputs": [],
   "source": [
    "pyK4A = pyKinectAzure(modulePath)\n",
    "pyK4A.device_open()\n",
    "device_config = pyK4A.config\n",
    "device_config.color_resolution = _k4a.K4A_COLOR_RESOLUTION_1080P\n",
    "device_config.depth_mode = _k4a.K4A_DEPTH_MODE_WFOV_2X2BINNED\n",
    "#print(device_config)\n",
    "pyK4A.device_start_cameras(device_config)\n",
    "k = 0\n",
    "while (cv2.waitKey(1) & 0xFF != ord('q')):\n",
    "    # Get capture\n",
    "    pyK4A.device_get_capture()\n",
    "\n",
    "    # Get the color image from the capture\n",
    "    color_image_handle = pyK4A.capture_get_color_image()\n",
    "\n",
    "    # Check the image has been read correctly\n",
    "    if color_image_handle:\n",
    "\n",
    "        # Read and convert the image data to numpy array:\n",
    "        color_image = pyK4A.image_convert_to_numpy(color_image_handle)\n",
    "\n",
    "        # Plot the image\n",
    "        cv2.namedWindow('Color Image',cv2.WINDOW_NORMAL)\n",
    "        cv2.imshow(\"Color Image\",color_image)\n",
    "        k = cv2.waitKey(10)\n",
    "        \n",
    "        # Release the image\n",
    "        pyK4A.image_release(color_image_handle)\n",
    "\n",
    "    pyK4A.capture_release()\n",
    "\n",
    "    if k==27 or k==113:    # Esc key to stop\n",
    "        break\n",
    "        \n",
    "pyK4A.device_stop_cameras()\n",
    "pyK4A.device_close()"
   ]
  },
  {
   "cell_type": "code",
   "execution_count": 5,
   "id": "75a67753",
   "metadata": {},
   "outputs": [],
   "source": [
    "pyK4A.device_stop_cameras()\n",
    "pyK4A.device_close()"
   ]
  },
  {
   "cell_type": "code",
   "execution_count": null,
   "id": "7db65d3e",
   "metadata": {},
   "outputs": [],
   "source": []
  }
 ],
 "metadata": {
  "kernelspec": {
   "display_name": "Python 3",
   "language": "python",
   "name": "python3"
  },
  "language_info": {
   "codemirror_mode": {
    "name": "ipython",
    "version": 3
   },
   "file_extension": ".py",
   "mimetype": "text/x-python",
   "name": "python",
   "nbconvert_exporter": "python",
   "pygments_lexer": "ipython3",
   "version": "3.8.8"
  }
 },
 "nbformat": 4,
 "nbformat_minor": 5
}
