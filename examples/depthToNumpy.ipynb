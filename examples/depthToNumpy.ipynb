{
 "cells": [
  {
   "cell_type": "code",
   "execution_count": 5,
   "id": "4d7ce56d",
   "metadata": {},
   "outputs": [],
   "source": [
    "import sys\n",
    "sys.path.insert(1, '../pyKinectAzure/')\n",
    "\n",
    "import numpy as np\n",
    "from pyKinectAzure import pyKinectAzure, _k4a\n",
    "import cv2\n",
    "import open3d as o3d\n",
    "from open3d import geometry, visualization\n",
    "modulePath = r'/usr/lib/x86_64-linux-gnu/libk4a.so'"
   ]
  },
  {
   "cell_type": "code",
   "execution_count": 15,
   "id": "1d3a8621",
   "metadata": {},
   "outputs": [],
   "source": [
    "pyK4A = pyKinectAzure(modulePath)\n",
    "pyK4A.device_open()\n",
    "device_config = pyK4A.config\n",
    "device_config.color_resolution = _k4a.K4A_COLOR_RESOLUTION_1080P\n",
    "device_config.depth_mode = _k4a.K4A_DEPTH_MODE_WFOV_2X2BINNED\n",
    "#print(device_config)"
   ]
  },
  {
   "cell_type": "code",
   "execution_count": 16,
   "id": "f68d32fe",
   "metadata": {},
   "outputs": [],
   "source": [
    "pyK4A.device_start_cameras(device_config)"
   ]
  },
  {
   "cell_type": "code",
   "execution_count": 18,
   "id": "20689f4a",
   "metadata": {},
   "outputs": [
    {
     "data": {
      "text/plain": [
       "<_k4atypes.LP__handle_k4a_image_t at 0x7f015cba2740>"
      ]
     },
     "execution_count": 18,
     "metadata": {},
     "output_type": "execute_result"
    }
   ],
   "source": [
    "pyK4A.device_get_capture()\n",
    "depth_image_handle = pyK4A.capture_get_depth_image()\n",
    "depth_image_handle"
   ]
  },
  {
   "cell_type": "code",
   "execution_count": 10,
   "id": "3fb65706",
   "metadata": {},
   "outputs": [],
   "source": [
    "k = 0\n",
    "while True:\n",
    "    # Get capture\n",
    "    pyK4A.device_get_capture()\n",
    "\n",
    "    #Get the depth image from the capture\n",
    "    depth_image_handle = pyK4A.capture_get_depth_image()\n",
    "\n",
    "    # Check the image has been read correctly\n",
    "    if depth_image_handle:\n",
    "\n",
    "        # Read and convert the image data to numpy array:\n",
    "        depth_image = pyK4A.image_convert_to_numpy(depth_image_handle)\n",
    "        depth_color_image = cv2.convertScaleAbs (depth_image, alpha=0.05)  #alpha is fitted by visual comparison with Azure k4aviewer results  \n",
    "        depth_color_image = cv2.applyColorMap(depth_color_image, cv2.COLORMAP_JET)\n",
    "        cv2.namedWindow('Colorized Depth Image',cv2.WINDOW_NORMAL)\n",
    "        cv2.imshow('Colorized Depth Image',depth_color_image)\n",
    "        k = cv2.waitKey(1)\n",
    "\n",
    "        # Release the image\n",
    "        pyK4A.image_release(depth_image_handle)\n",
    "\n",
    "    pyK4A.capture_release()\n",
    "\n",
    "    if k==27:    # Esc key to stop\n",
    "        break"
   ]
  },
  {
   "cell_type": "code",
   "execution_count": 13,
   "id": "75a67753",
   "metadata": {},
   "outputs": [],
   "source": [
    "pyK4A.device_stop_cameras()\n",
    "pyK4A.device_close()"
   ]
  },
  {
   "cell_type": "code",
   "execution_count": null,
   "id": "4d42c2b9",
   "metadata": {},
   "outputs": [],
   "source": []
  }
 ],
 "metadata": {
  "kernelspec": {
   "display_name": "Python 3",
   "language": "python",
   "name": "python3"
  },
  "language_info": {
   "codemirror_mode": {
    "name": "ipython",
    "version": 3
   },
   "file_extension": ".py",
   "mimetype": "text/x-python",
   "name": "python",
   "nbconvert_exporter": "python",
   "pygments_lexer": "ipython3",
   "version": "3.8.8"
  }
 },
 "nbformat": 4,
 "nbformat_minor": 5
}
