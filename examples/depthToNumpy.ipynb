{
 "cells": [
  {
   "cell_type": "code",
   "execution_count": 5,
   "id": "4d7ce56d",
   "metadata": {},
   "outputs": [],
   "source": [
    "import sys\n",
    "sys.path.insert(1, '../pyKinectAzure/')\n",
    "\n",
    "import numpy as np\n",
    "from pyKinectAzure import pyKinectAzure, _k4a\n",
    "import cv2\n",
    "import open3d as o3d\n",
    "from open3d import geometry, visualization\n",
    "#modulePath = r'/usr/lib/x86_64-linux-gnu/libk4a.so'\n",
    "modulePath = 'C:\\\\Program Files\\\\Azure Kinect SDK v1.4.1\\\\sdk\\\\windows-desktop\\\\amd64\\\\release\\\\bin\\\\k4a.dll'"
   ]
  },
  {
   "cell_type": "code",
   "execution_count": 9,
   "id": "1d3a8621",
   "metadata": {},
   "outputs": [],
   "source": [
    "pyK4A = pyKinectAzure(modulePath)\n",
    "pyK4A.device_open()\n",
    "device_config = pyK4A.config\n",
    "device_config.color_resolution = _k4a.K4A_COLOR_RESOLUTION_1080P\n",
    "device_config.depth_mode = _k4a.K4A_DEPTH_MODE_WFOV_2X2BINNED\n",
    "#print(device_config)"
   ]
  },
  {
   "cell_type": "code",
   "execution_count": 12,
   "id": "3fb65706",
   "metadata": {},
   "outputs": [
    {
     "name": "stdout",
     "output_type": "stream",
     "text": [
      "Open K4A Device failed!\n"
     ]
    },
    {
     "name": "stderr",
     "output_type": "stream",
     "text": [
      "  File \"C:\\Users\\Xiaoye Zuo\\Anaconda3\\lib\\runpy.py\", line 193, in _run_module_as_main\n",
      "    \"__main__\", mod_spec)\n",
      "  File \"C:\\Users\\Xiaoye Zuo\\Anaconda3\\lib\\runpy.py\", line 85, in _run_code\n",
      "    exec(code, run_globals)\n",
      "  File \"C:\\Users\\Xiaoye Zuo\\Anaconda3\\lib\\site-packages\\ipykernel_launcher.py\", line 16, in <module>\n",
      "    app.launch_new_instance()\n",
      "  File \"C:\\Users\\Xiaoye Zuo\\Anaconda3\\lib\\site-packages\\traitlets\\config\\application.py\", line 664, in launch_instance\n",
      "    app.start()\n",
      "  File \"C:\\Users\\Xiaoye Zuo\\Anaconda3\\lib\\site-packages\\ipykernel\\kernelapp.py\", line 612, in start\n",
      "    self.io_loop.start()\n",
      "  File \"C:\\Users\\Xiaoye Zuo\\Anaconda3\\lib\\site-packages\\tornado\\platform\\asyncio.py\", line 149, in start\n",
      "    self.asyncio_loop.run_forever()\n",
      "  File \"C:\\Users\\Xiaoye Zuo\\Anaconda3\\lib\\asyncio\\base_events.py\", line 528, in run_forever\n",
      "    self._run_once()\n",
      "  File \"C:\\Users\\Xiaoye Zuo\\Anaconda3\\lib\\asyncio\\base_events.py\", line 1764, in _run_once\n",
      "    handle._run()\n",
      "  File \"C:\\Users\\Xiaoye Zuo\\Anaconda3\\lib\\asyncio\\events.py\", line 88, in _run\n",
      "    self._context.run(self._callback, *self._args)\n",
      "  File \"C:\\Users\\Xiaoye Zuo\\Anaconda3\\lib\\site-packages\\tornado\\ioloop.py\", line 690, in <lambda>\n",
      "    lambda f: self._run_callback(functools.partial(callback, future))\n",
      "  File \"C:\\Users\\Xiaoye Zuo\\Anaconda3\\lib\\site-packages\\tornado\\ioloop.py\", line 743, in _run_callback\n",
      "    ret = callback()\n",
      "  File \"C:\\Users\\Xiaoye Zuo\\Anaconda3\\lib\\site-packages\\tornado\\gen.py\", line 787, in inner\n",
      "    self.run()\n",
      "  File \"C:\\Users\\Xiaoye Zuo\\Anaconda3\\lib\\site-packages\\tornado\\gen.py\", line 748, in run\n",
      "    yielded = self.gen.send(value)\n",
      "  File \"C:\\Users\\Xiaoye Zuo\\Anaconda3\\lib\\site-packages\\ipykernel\\kernelbase.py\", line 365, in process_one\n",
      "    yield gen.maybe_future(dispatch(*args))\n",
      "  File \"C:\\Users\\Xiaoye Zuo\\Anaconda3\\lib\\site-packages\\tornado\\gen.py\", line 209, in wrapper\n",
      "    yielded = next(result)\n",
      "  File \"C:\\Users\\Xiaoye Zuo\\Anaconda3\\lib\\site-packages\\ipykernel\\kernelbase.py\", line 268, in dispatch_shell\n",
      "    yield gen.maybe_future(handler(stream, idents, msg))\n",
      "  File \"C:\\Users\\Xiaoye Zuo\\Anaconda3\\lib\\site-packages\\tornado\\gen.py\", line 209, in wrapper\n",
      "    yielded = next(result)\n",
      "  File \"C:\\Users\\Xiaoye Zuo\\Anaconda3\\lib\\site-packages\\ipykernel\\kernelbase.py\", line 545, in execute_request\n",
      "    user_expressions, allow_stdin,\n",
      "  File \"C:\\Users\\Xiaoye Zuo\\Anaconda3\\lib\\site-packages\\tornado\\gen.py\", line 209, in wrapper\n",
      "    yielded = next(result)\n",
      "  File \"C:\\Users\\Xiaoye Zuo\\Anaconda3\\lib\\site-packages\\ipykernel\\ipkernel.py\", line 306, in do_execute\n",
      "    res = shell.run_cell(code, store_history=store_history, silent=silent)\n",
      "  File \"C:\\Users\\Xiaoye Zuo\\Anaconda3\\lib\\site-packages\\ipykernel\\zmqshell.py\", line 536, in run_cell\n",
      "    return super(ZMQInteractiveShell, self).run_cell(*args, **kwargs)\n",
      "  File \"C:\\Users\\Xiaoye Zuo\\Anaconda3\\lib\\site-packages\\IPython\\core\\interactiveshell.py\", line 2877, in run_cell\n",
      "    raw_cell, store_history, silent, shell_futures)\n",
      "  File \"C:\\Users\\Xiaoye Zuo\\Anaconda3\\lib\\site-packages\\IPython\\core\\interactiveshell.py\", line 2922, in _run_cell\n",
      "    return runner(coro)\n",
      "  File \"C:\\Users\\Xiaoye Zuo\\Anaconda3\\lib\\site-packages\\IPython\\core\\async_helpers.py\", line 68, in _pseudo_sync_runner\n",
      "    coro.send(None)\n",
      "  File \"C:\\Users\\Xiaoye Zuo\\Anaconda3\\lib\\site-packages\\IPython\\core\\interactiveshell.py\", line 3146, in run_cell_async\n",
      "    interactivity=interactivity, compiler=compiler, result=result)\n",
      "  File \"C:\\Users\\Xiaoye Zuo\\Anaconda3\\lib\\site-packages\\IPython\\core\\interactiveshell.py\", line 3337, in run_ast_nodes\n",
      "    if (await self.run_code(code, result,  async_=asy)):\n",
      "  File \"C:\\Users\\Xiaoye Zuo\\Anaconda3\\lib\\site-packages\\IPython\\core\\interactiveshell.py\", line 3417, in run_code\n",
      "    exec(code_obj, self.user_global_ns, self.user_ns)\n",
      "  File \"<ipython-input-12-fb6815e6eb2a>\", line 2, in <module>\n",
      "    pyK4A.device_open()\n",
      "  File \"../pyKinectAzure\\pyKinectAzure.py\", line 123, in device_open\n",
      "    _k4a.VERIFY(self.k4a.k4a_device_open(index,self.device_handle),\"Open K4A Device failed!\")\n",
      "  File \"../pyKinectAzure\\_k4a.py\", line 581, in VERIFY\n",
      "    traceback.print_stack()\n"
     ]
    },
    {
     "ename": "SystemExit",
     "evalue": "1",
     "output_type": "error",
     "traceback": [
      "An exception has occurred, use %tb to see the full traceback.\n",
      "\u001b[1;31mSystemExit\u001b[0m\u001b[1;31m:\u001b[0m 1\n"
     ]
    }
   ],
   "source": [
    "pyK4A = pyKinectAzure(modulePath)\n",
    "pyK4A.device_open()\n",
    "device_config = pyK4A.config\n",
    "device_config.color_resolution = _k4a.K4A_COLOR_RESOLUTION_1080P\n",
    "device_config.depth_mode = _k4a.K4A_DEPTH_MODE_WFOV_2X2BINNED\n",
    "#print(device_config)\n",
    "pyK4A.device_start_cameras(device_config)\n",
    "k = 0\n",
    "while (cv2.waitKey(1) & 0xFF != ord('q')):\n",
    "    # Get capture\n",
    "    pyK4A.device_get_capture()\n",
    "\n",
    "    # Get the color image from the capture\n",
    "    color_image_handle = pyK4A.capture_get_color_image()\n",
    "\n",
    "    # Check the image has been read correctly\n",
    "    if color_image_handle:\n",
    "\n",
    "        # Read and convert the image data to numpy array:\n",
    "        color_image = pyK4A.image_convert_to_numpy(color_image_handle)\n",
    "\n",
    "        # Plot the image\n",
    "        cv2.namedWindow('Color Image',cv2.WINDOW_NORMAL)\n",
    "        cv2.imshow(\"Color Image\",color_image)\n",
    "        k = cv2.waitKey(10)\n",
    "        \n",
    "        # Release the image\n",
    "        pyK4A.image_release(color_image_handle)\n",
    "\n",
    "    pyK4A.capture_release()\n",
    "\n",
    "    if k==27 or k==113:    # Esc key to stop\n",
    "        break\n",
    "        \n",
    "pyK4A.device_stop_cameras()\n",
    "pyK4A.device_close()"
   ]
  },
  {
   "cell_type": "code",
   "execution_count": 11,
   "id": "75a67753",
   "metadata": {},
   "outputs": [],
   "source": [
    "pyK4A.device_stop_cameras()\n",
    "pyK4A.device_close()"
   ]
  },
  {
   "cell_type": "code",
   "execution_count": null,
   "id": "7db65d3e",
   "metadata": {},
   "outputs": [],
   "source": []
  }
 ],
 "metadata": {
  "kernelspec": {
   "display_name": "Python 3",
   "language": "python",
   "name": "python3"
  },
  "language_info": {
   "codemirror_mode": {
    "name": "ipython",
    "version": 3
   },
   "file_extension": ".py",
   "mimetype": "text/x-python",
   "name": "python",
   "nbconvert_exporter": "python",
   "pygments_lexer": "ipython3",
   "version": "3.7.1"
  }
 },
 "nbformat": 4,
 "nbformat_minor": 5
}
